{
 "cells": [
  {
   "cell_type": "code",
   "execution_count": 28,
   "metadata": {},
   "outputs": [],
   "source": [
    "import os\n",
    "import sys\n",
    "import random\n",
    "import warnings\n",
    "\n",
    "import numpy as np\n",
    "import pandas as pd\n",
    "\n",
    "import matplotlib.pyplot as plt\n",
    "\n",
    "from tqdm import tqdm\n",
    "from itertools import chain\n",
    "from skimage.io import imread, imshow, imread_collection, concatenate_images\n",
    "from skimage.transform import resize\n",
    "from skimage.morphology import label\n",
    "\n",
    "from keras.models import Model, load_model\n",
    "from keras.layers import Input\n",
    "from keras.layers.core import Lambda, Dropout\n",
    "from keras.layers.convolutional import Conv2D, Conv2DTranspose\n",
    "from keras.layers.pooling import MaxPooling2D\n",
    "from keras.layers.merge import concatenate\n",
    "from keras.callbacks import EarlyStopping, ModelCheckpoint\n",
    "from keras import backend as K\n",
    "from extra_keras_metrics import average_precision_at_k\n",
    "\n",
    "\n",
    "import tensorflow as tf\n",
    "\n",
    "# Set some parameters\n",
    "IMG_WIDTH = 64\n",
    "IMG_HEIGHT = 64\n",
    "IMG_CHANNELS = 25\n",
    "TRAIN_PATH = 'GeneratedData/train/'\n",
    "TEST_PATH = 'GeneratedData/test/'\n",
    "\n",
    "warnings.filterwarnings('ignore', category=UserWarning, module='skimage')\n",
    "seed = 42\n",
    "random.seed = seed\n",
    "np.random.seed = seed"
   ]
  },
  {
   "cell_type": "code",
   "execution_count": 29,
   "metadata": {},
   "outputs": [],
   "source": [
    "# Get train and test ids\n",
    "train_ids = np.loadtxt(TRAIN_PATH + 'Directory.txt').astype(int)\n",
    "test_ids = np.loadtxt(TEST_PATH + 'Directory.txt').astype(int)"
   ]
  },
  {
   "cell_type": "code",
   "execution_count": 30,
   "metadata": {},
   "outputs": [
    {
     "name": "stdout",
     "output_type": "stream",
     "text": [
      "train ids(5000): [317877256 317877296 317877348 ... 318090414 318090481 318090551] \n",
      "\n",
      "test ids(500): [318580722 318580765 318580800 318580840 318580874 318580933 318580966\n",
      " 318581016 318581076 318581125 318581189 318581242 318581302 318581325\n",
      " 318581365 318581401 318581471 318581508 318581559 318581599 318581629\n",
      " 318581662 318581700 318581734 318581778 318581825 318581861 318581916\n",
      " 318581955 318581990 318582023 318582067 318582104 318582147 318582184\n",
      " 318582230 318582274 318582321 318582345 318582385 318582416 318582477\n",
      " 318582511 318582553 318582600 318582651 318582688 318582743 318582772\n",
      " 318582795 318582835 318582887 318582934 318582968 318583023 318583068\n",
      " 318583110 318583151 318583193 318583242 318583289 318583335 318583374\n",
      " 318583416 318583447 318583488 318583518 318583555 318583605 318583654\n",
      " 318583689 318583719 318583766 318583799 318583837 318583875 318583924\n",
      " 318583989 318584032 318584077 318584115 318584149 318584182 318584218\n",
      " 318584246 318584283 318584326 318584386 318584445 318584494 318584521\n",
      " 318584575 318584606 318584633 318584678 318584698 318584728 318584770\n",
      " 318584822 318584868 318584909 318584961 318585016 318585057 318585098\n",
      " 318585136 318585161 318585188 318585225 318585270 318585311 318585338\n",
      " 318585378 318585431 318585479 318585530 318585560 318585608 318585638\n",
      " 318585676 318585727 318585763 318585806 318585832 318585870 318585898\n",
      " 318585938 318585985 318586019 318586064 318586111 318586142 318586165\n",
      " 318586192 318586239 318586299 318586355 318586416 318586483 318586525\n",
      " 318586583 318586640 318586671 318586721 318586764 318586813 318586833\n",
      " 318586885 318586932 318586983 318587025 318587058 318587111 318587159\n",
      " 318587191 318587241 318587269 318587292 318587337 318587368 318587417\n",
      " 318587455 318587481 318587536 318587581 318587611 318587639 318587674\n",
      " 318587706 318587734 318587764 318587815 318587859 318587903 318587952\n",
      " 318587997 318588031 318588070 318588103 318588144 318588198 318588232\n",
      " 318588253 318588302 318588342 318588389 318588419 318588447 318588492\n",
      " 318588532 318588567 318588622 318588673 318588722 318588762 318588825\n",
      " 318588859 318588898 318588950 318588992 318589041 318589076 318589111\n",
      " 318589149 318589183 318589253 318589283 318589324 318589384 318589437\n",
      " 318589470 318589516 318589559 318589592 318589626 318589674 318589709\n",
      " 318589744 318589807 318589870 318589904 318589956 318589989 318590030\n",
      " 318590087 318590138 318590181 318590239 318590305 318590346 318590416\n",
      " 318590460 318590499 318590537 318590582 318590622 318590664 318590694\n",
      " 318590727 318590781 318590829 318590891 318590936 318590997 318591037\n",
      " 318591097 318591150 318591201 318591240 318591302 318591352 318591412\n",
      " 318591470 318591532 318591568 318591610 318591658 318591693 318591746\n",
      " 318591775 318591825 318591855 318591885 318591923 318591969 318592002\n",
      " 318592040 318592074 318592134 318592171 318592202 318592246 318592277\n",
      " 318592334 318592380 318592432 318592481 318592508 318592550 318592575\n",
      " 318592615 318592642 318592702 318592727 318592777 318592806 318592837\n",
      " 318592876 318592906 318592926 318592989 318593010 318593049 318593089\n",
      " 318593118 318593181 318593242 318593282 318593319 318593358 318593378\n",
      " 318593435 318593488 318593535 318593574 318593632 318593671 318593710\n",
      " 318593740 318593764 318593816 318593852 318593899 318593950 318593989\n",
      " 318594053 318594086 318594121 318594143 318594193 318594249 318594298\n",
      " 318594333 318594384 318594413 318594465 318594518 318594578 318594611\n",
      " 318594671 318594726 318594762 318594792 318594835 318594886 318594932\n",
      " 318594970 318595014 318595038 318595078 318595109 318595148 318595198\n",
      " 318595232 318595285 318595322 318595344 318595378 318595428 318595458\n",
      " 318595489 318595531 318595567 318595610 318595653 318595694 318595734\n",
      " 318595769 318595812 318595862 318595896 318595938 318595990 318596026\n",
      " 318596050 318596076 318596116 318596151 318596188 318596224 318596286\n",
      " 318596347 318596381 318596423 318596463 318596507 318596557 318596596\n",
      " 318596634 318596676 318596721 318596757 318596795 318596832 318596881\n",
      " 318596912 318596937 318596981 318597032 318597079 318597098 318597148\n",
      " 318597179 318597222 318597251 318597299 318597343 318597382 318597432\n",
      " 318597483 318597544 318597597 318597653 318597719 318597756 318597805\n",
      " 318597866 318597924 318597967 318598016 318598060 318598094 318598135\n",
      " 318598181 318598235 318598267 318598300 318598331 318598375 318598402\n",
      " 318598457 318598489 318598539 318598589 318598645 318598692 318598723\n",
      " 318598749 318598775 318598816 318598855 318598896 318598953 318599020\n",
      " 318599068 318599113 318599147 318599201 318599237 318599274 318599313\n",
      " 318599348 318599384 318599411 318599456 318599507 318599556 318599617\n",
      " 318599679 318599732 318599795 318599837 318599874 318599901 318599948\n",
      " 318599988 318600039 318600077 318600108 318600136 318600161 318600192\n",
      " 318600233 318600259 318600290 318600329 318600393 318600428 318600463\n",
      " 318600515 318600544 318600598 318600619 318600653 318600695 318600744\n",
      " 318600802 318600854 318600899 318600950 318601000 318601056 318601081\n",
      " 318601123 318601156 318601190 318601245 318601288 318601340 318601403\n",
      " 318601467 318601529 318601561 318601592 318601619 318601652 318601697\n",
      " 318601764 318601798 318601849]\n"
     ]
    }
   ],
   "source": [
    "print(\"train ids(%i):\" % (len(train_ids)), train_ids, \"\\n\")\n",
    "print(\"test ids(%i):\" % (len(test_ids)), test_ids)"
   ]
  },
  {
   "cell_type": "markdown",
   "metadata": {},
   "source": [
    "# Data processing"
   ]
  },
  {
   "cell_type": "code",
   "execution_count": 31,
   "metadata": {},
   "outputs": [
    {
     "name": "stdout",
     "output_type": "stream",
     "text": [
      "Getting train images and masks ... \n"
     ]
    },
    {
     "name": "stderr",
     "output_type": "stream",
     "text": [
      "100%|██████████| 5000/5000 [00:04<00:00, 1039.77it/s]"
     ]
    },
    {
     "name": "stdout",
     "output_type": "stream",
     "text": [
      "Getting test images and masks ... \n"
     ]
    },
    {
     "name": "stderr",
     "output_type": "stream",
     "text": [
      "\n",
      "100%|██████████| 500/500 [00:00<00:00, 1157.50it/s]"
     ]
    },
    {
     "name": "stdout",
     "output_type": "stream",
     "text": [
      "Done!\n"
     ]
    },
    {
     "name": "stderr",
     "output_type": "stream",
     "text": [
      "\n"
     ]
    }
   ],
   "source": [
    "X_train = np.zeros((len(train_ids), IMG_WIDTH, IMG_HEIGHT, IMG_CHANNELS), dtype=np.uint8)\n",
    "Y_train = np.zeros((len(train_ids), IMG_HEIGHT, IMG_WIDTH, 1), dtype=np.bool)\n",
    "\n",
    "# Get train images and masks\n",
    "print('Getting train images and masks ... ')\n",
    "sys.stdout.flush()\n",
    "for n, id in tqdm(enumerate(train_ids), total=len(train_ids)):\n",
    "    img_path = TRAIN_PATH + 'ImageMap-' + str(id) + '.dat'\n",
    "    img_zxy = np.fromfile(img_path, dtype='uint8')\n",
    "    img_zxy.shape = (IMG_CHANNELS, IMG_WIDTH, IMG_HEIGHT)\n",
    "    # convert from 25x64x64 to 64x64x25\n",
    "    img_xyz = np.zeros((IMG_WIDTH, IMG_HEIGHT, IMG_CHANNELS))\n",
    "    for i in range(IMG_CHANNELS):\n",
    "        img_xyz[:,:,i] = img_zxy[i,:,:]\n",
    "    X_train[n] = img_xyz\n",
    "    \n",
    "    mask_path = TRAIN_PATH + 'LabelMap-' + str(id) + '.dat'\n",
    "    mask = np.fromfile(mask_path, dtype=np.bool)\n",
    "    mask.shape = (IMG_WIDTH, IMG_HEIGHT, 1)\n",
    "    Y_train[n] = mask\n",
    "\n",
    "# Get test images and masks\n",
    "print('Getting test images and masks ... ')\n",
    "sys.stdout.flush()\n",
    "X_test = np.zeros((len(test_ids), IMG_WIDTH, IMG_HEIGHT, IMG_CHANNELS), dtype=np.uint8)\n",
    "Y_test = np.zeros((len(test_ids), IMG_HEIGHT, IMG_WIDTH, 1), dtype=np.bool)\n",
    "for n, id in tqdm(enumerate(test_ids), total=len(test_ids)):\n",
    "    img_path = TEST_PATH + 'ImageMap-' + str(id) + '.dat'\n",
    "    img_zxy = np.fromfile(img_path, dtype='uint8')\n",
    "    img_zxy.shape = (IMG_CHANNELS, IMG_WIDTH, IMG_HEIGHT)\n",
    "    # convert from 25x64x64 to 64x64x25\n",
    "    img_xyz = np.zeros((IMG_WIDTH, IMG_HEIGHT, IMG_CHANNELS))\n",
    "    for i in range(IMG_CHANNELS):\n",
    "        img_xyz[:,:,i] = img_zxy[i,:,:]\n",
    "    X_test[n] = img_xyz\n",
    "    \n",
    "    mask_path = TEST_PATH + 'LabelMap-' + str(id) + '.dat'\n",
    "    mask = np.fromfile(mask_path, dtype=np.bool)\n",
    "    mask.shape = (IMG_WIDTH, IMG_HEIGHT, 1)\n",
    "    Y_test[n] = mask\n",
    "\n",
    "print(\"Done!\")"
   ]
  },
  {
   "cell_type": "code",
   "execution_count": 32,
   "metadata": {},
   "outputs": [
    {
     "data": {
      "image/png": "[encoded data removed]",
      "text/plain": [
       "<Figure size 432x288 with 1 Axes>"
      ]
     },
     "metadata": {
      "needs_background": "light"
     },
     "output_type": "display_data"
    },
    {
     "data": {
      "image/png": "[encoded data removed]",
      "text/plain": [
       "<Figure size 432x288 with 2 Axes>"
      ]
     },
     "metadata": {
      "needs_background": "light"
     },
     "output_type": "display_data"
    }
   ],
   "source": [
    "# Check if training data looks okay\n",
    "img_idx = random.randint(0, len(train_ids)-1)\n",
    "color_idx = random.randint(0, IMG_CHANNELS-1)\n",
    "imshow(X_train[img_idx,:,:,color_idx])\n",
    "plt.show()\n",
    "imshow(np.squeeze(Y_train[img_idx]))\n",
    "plt.show()"
   ]
  },
  {
   "cell_type": "markdown",
   "metadata": {},
   "source": [
    "# Create model\n",
    "\n",
    "Next we build our U-Net model, loosely based on [U-Net: Convolutional Networks for Biomedical Image Segmentation](https://arxiv.org/pdf/1505.04597.pdf) and very similar to [this repo](https://github.com/jocicmarko/ultrasound-nerve-segmentation) from the Kaggle Ultrasound Nerve Segmentation competition.\n",
    "\n",
    "![](https://lmb.informatik.uni-freiburg.de/people/ronneber/u-net/u-net-architecture.png)"
   ]
  },
  {
   "cell_type": "code",
   "execution_count": 49,
   "metadata": {},
   "outputs": [
    {
     "name": "stdout",
     "output_type": "stream",
     "text": [
      "__________________________________________________________________________________________________\n",
      "Layer (type)                    Output Shape         Param #     Connected to                     \n",
      "==================================================================================================\n",
      "input_6 (InputLayer)            (None, 64, 64, 25)   0                                            \n",
      "__________________________________________________________________________________________________\n",
      "conv2d_81 (Conv2D)              (None, 64, 64, 4)    904         input_6[0][0]                    \n",
      "__________________________________________________________________________________________________\n",
      "dropout_27 (Dropout)            (None, 64, 64, 4)    0           conv2d_81[0][0]                  \n",
      "__________________________________________________________________________________________________\n",
      "conv2d_82 (Conv2D)              (None, 64, 64, 4)    148         dropout_27[0][0]                 \n",
      "__________________________________________________________________________________________________\n",
      "max_pooling2d_19 (MaxPooling2D) (None, 32, 32, 4)    0           conv2d_82[0][0]                  \n",
      "__________________________________________________________________________________________________\n",
      "conv2d_83 (Conv2D)              (None, 32, 32, 8)    296         max_pooling2d_19[0][0]           \n",
      "__________________________________________________________________________________________________\n",
      "dropout_28 (Dropout)            (None, 32, 32, 8)    0           conv2d_83[0][0]                  \n",
      "__________________________________________________________________________________________________\n",
      "conv2d_84 (Conv2D)              (None, 32, 32, 8)    584         dropout_28[0][0]                 \n",
      "__________________________________________________________________________________________________\n",
      "max_pooling2d_20 (MaxPooling2D) (None, 16, 16, 8)    0           conv2d_84[0][0]                  \n",
      "__________________________________________________________________________________________________\n",
      "conv2d_85 (Conv2D)              (None, 16, 16, 16)   1168        max_pooling2d_20[0][0]           \n",
      "__________________________________________________________________________________________________\n",
      "dropout_29 (Dropout)            (None, 16, 16, 16)   0           conv2d_85[0][0]                  \n",
      "__________________________________________________________________________________________________\n",
      "conv2d_86 (Conv2D)              (None, 16, 16, 16)   2320        dropout_29[0][0]                 \n",
      "__________________________________________________________________________________________________\n",
      "max_pooling2d_21 (MaxPooling2D) (None, 8, 8, 16)     0           conv2d_86[0][0]                  \n",
      "__________________________________________________________________________________________________\n",
      "conv2d_87 (Conv2D)              (None, 8, 8, 32)     4640        max_pooling2d_21[0][0]           \n",
      "__________________________________________________________________________________________________\n",
      "dropout_30 (Dropout)            (None, 8, 8, 32)     0           conv2d_87[0][0]                  \n",
      "__________________________________________________________________________________________________\n",
      "conv2d_88 (Conv2D)              (None, 8, 8, 32)     9248        dropout_30[0][0]                 \n",
      "__________________________________________________________________________________________________\n",
      "max_pooling2d_22 (MaxPooling2D) (None, 4, 4, 32)     0           conv2d_88[0][0]                  \n",
      "__________________________________________________________________________________________________\n",
      "conv2d_89 (Conv2D)              (None, 4, 4, 64)     18496       max_pooling2d_22[0][0]           \n",
      "__________________________________________________________________________________________________\n",
      "dropout_31 (Dropout)            (None, 4, 4, 64)     0           conv2d_89[0][0]                  \n",
      "__________________________________________________________________________________________________\n",
      "conv2d_90 (Conv2D)              (None, 4, 4, 64)     36928       dropout_31[0][0]                 \n",
      "__________________________________________________________________________________________________\n",
      "conv2d_transpose_17 (Conv2DTran (None, 8, 8, 32)     8224        conv2d_90[0][0]                  \n",
      "__________________________________________________________________________________________________\n",
      "concatenate_17 (Concatenate)    (None, 8, 8, 64)     0           conv2d_transpose_17[0][0]        \n",
      "                                                                 conv2d_88[0][0]                  \n",
      "__________________________________________________________________________________________________\n",
      "conv2d_91 (Conv2D)              (None, 8, 8, 32)     18464       concatenate_17[0][0]             \n",
      "__________________________________________________________________________________________________\n",
      "conv2d_92 (Conv2D)              (None, 8, 8, 32)     9248        conv2d_91[0][0]                  \n",
      "__________________________________________________________________________________________________\n",
      "conv2d_transpose_18 (Conv2DTran (None, 16, 16, 16)   2064        conv2d_92[0][0]                  \n",
      "__________________________________________________________________________________________________\n",
      "concatenate_18 (Concatenate)    (None, 16, 16, 32)   0           conv2d_transpose_18[0][0]        \n",
      "                                                                 conv2d_86[0][0]                  \n",
      "__________________________________________________________________________________________________\n",
      "conv2d_93 (Conv2D)              (None, 16, 16, 16)   4624        concatenate_18[0][0]             \n",
      "__________________________________________________________________________________________________\n",
      "conv2d_94 (Conv2D)              (None, 16, 16, 16)   2320        conv2d_93[0][0]                  \n",
      "__________________________________________________________________________________________________\n",
      "conv2d_transpose_19 (Conv2DTran (None, 32, 32, 8)    520         conv2d_94[0][0]                  \n",
      "__________________________________________________________________________________________________\n",
      "concatenate_19 (Concatenate)    (None, 32, 32, 16)   0           conv2d_transpose_19[0][0]        \n",
      "                                                                 conv2d_84[0][0]                  \n",
      "__________________________________________________________________________________________________\n",
      "conv2d_95 (Conv2D)              (None, 32, 32, 8)    1160        concatenate_19[0][0]             \n",
      "__________________________________________________________________________________________________\n",
      "conv2d_96 (Conv2D)              (None, 32, 32, 8)    584         conv2d_95[0][0]                  \n",
      "__________________________________________________________________________________________________\n",
      "conv2d_transpose_20 (Conv2DTran (None, 64, 64, 4)    132         conv2d_96[0][0]                  \n",
      "__________________________________________________________________________________________________\n",
      "concatenate_20 (Concatenate)    (None, 64, 64, 8)    0           conv2d_transpose_20[0][0]        \n",
      "                                                                 conv2d_82[0][0]                  \n",
      "__________________________________________________________________________________________________\n",
      "conv2d_97 (Conv2D)              (None, 64, 64, 4)    292         concatenate_20[0][0]             \n",
      "__________________________________________________________________________________________________\n",
      "conv2d_98 (Conv2D)              (None, 64, 64, 4)    148         conv2d_97[0][0]                  \n",
      "__________________________________________________________________________________________________\n",
      "conv2d_99 (Conv2D)              (None, 64, 64, 1)    5           conv2d_98[0][0]                  \n",
      "==================================================================================================\n",
      "Total params: 122,517\n",
      "Trainable params: 122,517\n",
      "Non-trainable params: 0\n",
      "__________________________________________________________________________________________________\n"
     ]
    }
   ],
   "source": [
    "# Build U-Net model\n",
    "inputs = Input((IMG_HEIGHT, IMG_WIDTH, IMG_CHANNELS))\n",
    "\n",
    "# Normalize inputs\n",
    "# s = Lambda(lambda x: x / 255) (inputs)\n",
    "s = inputs\n",
    "\n",
    "# Encoder layers\n",
    "conv0 = Conv2D(4, (3, 3), activation='relu', padding='same') (s)\n",
    "conv0 = Dropout(0.2)(conv0)\n",
    "conv0 = Conv2D(4, (3, 3), activation='relu', padding='same') (conv0)\n",
    "pool0 = MaxPooling2D((2, 2)) (conv0)\n",
    "\n",
    "conv1 = Conv2D(8, (3, 3), activation='relu', padding='same') (pool0)\n",
    "conv1 = Dropout(0.2)(conv1)\n",
    "conv1 = Conv2D(8, (3, 3), activation='relu', padding='same') (conv1)\n",
    "pool1 = MaxPooling2D((2, 2)) (conv1)\n",
    "\n",
    "conv2 = Conv2D(16, (3, 3), activation='relu', padding='same') (pool1)\n",
    "conv2 = Dropout(0.2)(conv2)\n",
    "conv2 = Conv2D(16, (3, 3), activation='relu', padding='same') (conv2)\n",
    "pool2 = MaxPooling2D((2, 2)) (conv2)\n",
    "\n",
    "conv3 = Conv2D(32, (3, 3), activation='relu', padding='same') (pool2)\n",
    "conv3 = Dropout(0.2)(conv3)\n",
    "conv3 = Conv2D(32, (3, 3), activation='relu', padding='same') (conv3)\n",
    "pool3 = MaxPooling2D((2, 2)) (conv3)\n",
    "\n",
    "conv4 = Conv2D(64, (3, 3), activation='relu', padding='same') (pool3)\n",
    "conv4 = Dropout(0.2)(conv4)\n",
    "conv4 = Conv2D(64, (3, 3), activation='relu', padding='same') (conv4)\n",
    "# --------------------------------------------------------------\n",
    "\n",
    "# Decoder layers\n",
    "upconv7 = Conv2DTranspose(32, (2, 2), strides=(2, 2), padding='same') (conv4)\n",
    "upconv7 = concatenate([upconv7, conv3])\n",
    "conv7 = Conv2D(32, (3, 3), activation='relu', padding='same') (upconv7)\n",
    "conv7 = Conv2D(32, (3, 3), activation='relu', padding='same') (conv7)\n",
    "\n",
    "upconv8 = Conv2DTranspose(16, (2, 2), strides=(2, 2), padding='same') (conv7)\n",
    "upconv8 = concatenate([upconv8, conv2])\n",
    "conv8 = Conv2D(16, (3, 3), activation='relu', padding='same') (upconv8)\n",
    "conv8 = Conv2D(16, (3, 3), activation='relu', padding='same') (conv8)\n",
    "\n",
    "upconv9 = Conv2DTranspose(8, (2, 2), strides=(2, 2), padding='same') (conv8)\n",
    "upconv9 = concatenate([upconv9, conv1], axis=3)\n",
    "conv9 = Conv2D(8, (3, 3), activation='relu', padding='same') (upconv9)\n",
    "conv9 = Conv2D(8, (3, 3), activation='relu', padding='same') (conv9)\n",
    "\n",
    "upconv10 = Conv2DTranspose(4, (2, 2), strides=(2, 2), padding='same') (conv9)\n",
    "upconv10 = concatenate([upconv10, conv0], axis=3)\n",
    "conv10 = Conv2D(4, (3, 3), activation='relu', padding='same') (upconv10)\n",
    "conv10 = Conv2D(4, (3, 3), activation='relu', padding='same') (conv10)\n",
    "# --------------------------------------------------------------\n",
    "\n",
    "outputs = Conv2D(1, (1, 1), activation='softmax') (conv10)\n",
    "\n",
    "model = Model(inputs=[inputs], outputs=[outputs])\n",
    "model.compile(optimizer='adam', loss='binary_crossentropy', metrics=['accuracy'])\n",
    "# model.compile(optimizer='adam', loss='binary_crossentropy', metrics=[average_precision_at_k(1)])\n",
    "model.summary()"
   ]
  },
  {
   "cell_type": "markdown",
   "metadata": {},
   "source": [
    "\n",
    "# Training\n",
    "\n",
    "Next we fit the model on the training data, using a validation split of 0.1. We use a small batch size because we have so little data. I recommend using checkpointing and early stopping when training your model. I won't do it here to make things a bit more reproducible (although it's very likely that your results will be different anyway)."
   ]
  },
  {
   "cell_type": "code",
   "execution_count": 50,
   "metadata": {},
   "outputs": [
    {
     "name": "stdout",
     "output_type": "stream",
     "text": [
      "Train on 3750 samples, validate on 1250 samples\n",
      "Epoch 1/30\n",
      "3750/3750 [==============================] - 41s 11ms/step - loss: 15.8790 - acc: 0.0040 - val_loss: 15.8806 - val_acc: 0.0039\n",
      "\n",
      "Epoch 00001: val_loss improved from inf to 15.88056, saving model to model-SonarNet-1.h5\n",
      "Epoch 2/30\n",
      "3750/3750 [==============================] - 35s 9ms/step - loss: 15.8790 - acc: 0.0040 - val_loss: 15.8806 - val_acc: 0.0039\n",
      "\n",
      "Epoch 00002: val_loss did not improve from 15.88056\n",
      "Epoch 3/30\n",
      "3750/3750 [==============================] - 33s 9ms/step - loss: 15.8790 - acc: 0.0040 - val_loss: 15.8806 - val_acc: 0.0039\n",
      "\n",
      "Epoch 00003: val_loss did not improve from 15.88056\n",
      "Epoch 4/30\n",
      "3750/3750 [==============================] - 34s 9ms/step - loss: 15.8790 - acc: 0.0040 - val_loss: 15.8806 - val_acc: 0.0039\n",
      "\n",
      "Epoch 00004: val_loss did not improve from 15.88056\n",
      "Epoch 5/30\n",
      "3750/3750 [==============================] - 36s 9ms/step - loss: 15.8790 - acc: 0.0040 - val_loss: 15.8806 - val_acc: 0.0039\n",
      "\n",
      "Epoch 00005: val_loss did not improve from 15.88056\n",
      "Epoch 6/30\n",
      "3750/3750 [==============================] - 35s 9ms/step - loss: 15.8790 - acc: 0.0040 - val_loss: 15.8806 - val_acc: 0.0039\n",
      "\n",
      "Epoch 00006: val_loss did not improve from 15.88056\n",
      "Epoch 00006: early stopping\n"
     ]
    }
   ],
   "source": [
    "# Fit model\n",
    "earlystopper = EarlyStopping(patience=5, verbose=1)\n",
    "checkpointer = ModelCheckpoint('model-SonarNet-1.h5', verbose=1, save_best_only=True)\n",
    "results = model.fit(X_train, Y_train, validation_split=0.25, batch_size=8, epochs=30, \n",
    "                   callbacks=[earlystopper, checkpointer])"
   ]
  },
  {
   "cell_type": "markdown",
   "metadata": {},
   "source": [
    "# Prediction"
   ]
  },
  {
   "cell_type": "code",
   "execution_count": 37,
   "metadata": {},
   "outputs": [
    {
     "name": "stdout",
     "output_type": "stream",
     "text": [
      "3750/3750 [==============================] - 8s 2ms/step\n",
      "1250/1250 [==============================] - 2s 2ms/step\n",
      "500/500 [==============================] - 1s 2ms/step\n"
     ]
    }
   ],
   "source": [
    "# Predict on train, val and test\n",
    "model = load_model('model-SonarNet-1.h5', custom_objects={})\n",
    "\n",
    "preds_train = model.predict(X_train[:int(X_train.shape[0]*0.75)], verbose=1)\n",
    "preds_val = model.predict(X_train[int(X_train.shape[0]*0.75):], verbose=1)\n",
    "preds_test = model.predict(X_test, verbose=1)\n",
    "\n",
    "# Threshold predictions\n",
    "preds_train_t = (preds_train > 0.5).astype(np.uint8)\n",
    "preds_val_t = (preds_val > 0.5).astype(np.uint8)\n",
    "preds_test_t = (preds_test > 0.5).astype(np.uint8)"
   ]
  },
  {
   "cell_type": "markdown",
   "metadata": {},
   "source": [
    "# Detection"
   ]
  },
  {
   "cell_type": "code",
   "execution_count": 45,
   "metadata": {},
   "outputs": [
    {
     "data": {
      "image/png": "[encoded data removed]",
      "text/plain": [
       "<Figure size 432x288 with 1 Axes>"
      ]
     },
     "metadata": {
      "needs_background": "light"
     },
     "output_type": "display_data"
    },
    {
     "data": {
      "image/png": "[encoded data removed]",
      "text/plain": [
       "<Figure size 432x288 with 2 Axes>"
      ]
     },
     "metadata": {
      "needs_background": "light"
     },
     "output_type": "display_data"
    },
    {
     "data": {
      "image/png": "[encoded data removed]",
      "text/plain": [
       "<Figure size 432x288 with 1 Axes>"
      ]
     },
     "metadata": {
      "needs_background": "light"
     },
     "output_type": "display_data"
    }
   ],
   "source": [
    "# Perform a sanity check on some random training samples\n",
    "img_idx = random.randint(0, len(preds_train_t)-1)\n",
    "color_idx = random.randint(0, IMG_CHANNELS-1)\n",
    "\n",
    "imshow(X_train[img_idx,:,:,color_idx])\n",
    "plt.title(\"Image (1 color plane)\")\n",
    "plt.show()\n",
    "plt.title(\"True mask\")\n",
    "imshow(np.squeeze(Y_train[img_idx]))\n",
    "plt.show()\n",
    "plt.title(\"Predicted mask\")\n",
    "imshow(np.squeeze(preds_train_t[img_idx]))\n",
    "plt.show()"
   ]
  },
  {
   "cell_type": "code",
   "execution_count": null,
   "metadata": {},
   "outputs": [],
   "source": [
    "# Perform a sanity check on some random validation samples\n",
    "img_idx = random.randint(0, len(preds_val_t)-1)\n",
    "color_idx = random.randint(0, IMG_CHANNELS-1)\n",
    "\n",
    "imshow(X_train[img_idx,:,:,color_idx])\n",
    "plt.title(\"Image (1 color plane)\")\n",
    "plt.show()\n",
    "plt.title(\"True mask\")\n",
    "imshow(np.squeeze(Y_train[img_idx]))\n",
    "plt.show()\n",
    "plt.title(\"Predicted mask\")\n",
    "imshow(np.squeeze(preds_train_t[img_idx]))\n",
    "plt.show()"
   ]
  },
  {
   "cell_type": "markdown",
   "metadata": {},
   "source": [
    "---"
   ]
  },
  {
   "cell_type": "markdown",
   "metadata": {},
   "source": [
    "# Test code"
   ]
  },
  {
   "cell_type": "code",
   "execution_count": null,
   "metadata": {},
   "outputs": [],
   "source": [
    "# show all images\n",
    "for img in X_train:\n",
    "    imshow(img[:,:,15])\n",
    "    plt.show()"
   ]
  },
  {
   "cell_type": "code",
   "execution_count": null,
   "metadata": {},
   "outputs": [],
   "source": [
    "# show all masks\n",
    "for mask in Y_train:\n",
    "    imshow(np.squeeze(mask))\n",
    "    plt.show()"
   ]
  },
  {
   "cell_type": "code",
   "execution_count": null,
   "metadata": {},
   "outputs": [],
   "source": []
  }
 ],
 "metadata": {
  "kernelspec": {
   "display_name": "Python [conda env:ml] *",
   "language": "python",
   "name": "conda-env-ml-py"
  },
  "language_info": {
   "codemirror_mode": {
    "name": "ipython",
    "version": 3
   },
   "file_extension": ".py",
   "mimetype": "text/x-python",
   "name": "python",
   "nbconvert_exporter": "python",
   "pygments_lexer": "ipython3",
   "version": "3.7.3"
  }
 },
 "nbformat": 4,
 "nbformat_minor": 2
}
